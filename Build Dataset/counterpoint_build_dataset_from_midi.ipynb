{
 "cells": [
  {
   "cell_type": "code",
   "execution_count": 1,
   "metadata": {},
   "outputs": [],
   "source": [
    "import midi\n",
    "import numpy as np\n",
    "\n",
    "def read_midi_file(book_num, fugue_num):\n",
    "    path = \"processed midi files/book_\" + str(book_num) + \"/fugue_\" + str(fugue_num) + \".mid\"\n",
    "    return midi.read_midifile(path)\n",
    "\n",
    "def get_note_values_from_track(track):\n",
    "    # 1) go through midi track and find a midi on event\n",
    "    # 2) find it's position by dividing the total_ticks by size of smallest_note\n",
    "    # 3) figure out length of track\n",
    "    # 4) create an array with that length that has the values\n",
    "    index_and_value = []\n",
    "    total_ticks = 0\n",
    "    for i in range(0, len(track)):\n",
    "        current_event = track[i]\n",
    "        # in the begining some events are not note events\n",
    "        if(type(current_event) != midi.events.NoteOnEvent \n",
    "           and type(current_event) != midi.events.NoteOffEvent):\n",
    "            continue\n",
    "        else:\n",
    "            total_ticks += current_event.tick\n",
    "        if(type(current_event) == midi.events.NoteOnEvent):\n",
    "            index = total_ticks / 6 # always a multiple of 6\n",
    "            index_and_value.append((index, current_event.data[0]))\n",
    "            # this will be like (7, 62) meaning note 62 at index 7\n",
    "        \n",
    "    # might be possible to do this in a better way\n",
    "    numberOfNotes = index_and_value[len(index_and_value)-1][0]+1\n",
    "    note_values = np.zeros(numberOfNotes)\n",
    "    # this just creates the final array from the (index, value) pairs\n",
    "    for pair in index_and_value:\n",
    "        note_values[pair[0]] = pair[1]\n",
    "    \n",
    "    return note_values            "
   ]
  },
  {
   "cell_type": "code",
   "execution_count": 2,
   "metadata": {
    "scrolled": true
   },
   "outputs": [
    {
     "name": "stdout",
     "output_type": "stream",
     "text": [
      "size of X:  35724\n",
      "size of y:  35724\n"
     ]
    }
   ],
   "source": [
    "def get_voices_from_fugue(book_num, fugue_num):\n",
    "    fugue = read_midi_file(book_num, fugue_num)\n",
    "    voices = []\n",
    "    for i in range(2, len(fugue)):\n",
    "        voices.append(fugue[i])\n",
    "    for i in range(0, len(voices)):\n",
    "        voices[i] = get_note_values_from_track(voices[i])\n",
    "    return voices\n",
    "       \n",
    "\n",
    "def transform_voices_to_bar_phrases(voices, expansion_size):\n",
    "    # phrase is a 64 note array, the voice will be an array of phrases\n",
    "    # voices is 3D array. voices[i] is an array of phrases. \n",
    "    # each phrase  is an array of 128 notes \n",
    "    phrases = []\n",
    "    for i in range(0, len(voices)):\n",
    "        index = 0\n",
    "        phrases.append([])\n",
    "        while (len(voices[i])-index>=number_of_notes):\n",
    "            phrases[i].append(voices[i][index:index+number_of_notes])\n",
    "            index += (number_of_notes/expansion_size)\n",
    "        # this is for padding\n",
    "        last_bar = []\n",
    "        for j in range(index, len(voices[i])):\n",
    "            last_bar.append(0)\n",
    "            last_bar[len(last_bar)-1] = voices[i][j]\n",
    "        for j in range(len(last_bar), number_of_notes):\n",
    "            last_bar.append(0)\n",
    "        phrases[i].append(last_bar)        \n",
    "    return make_sure_voices_have_same_number_of_phrases(phrases)\n",
    "\n",
    "def make_sure_voices_have_same_number_of_phrases(voices):               \n",
    "    max_num_of_phrases = 0\n",
    "    for i in range(0, len(voices)):\n",
    "        if(len(voices[i])>max_num_of_phrases):\n",
    "            max_num_of_phrases = len(voices[i])\n",
    "    for i in range(0, len(voices)):\n",
    "        if(len(voices[i])<max_num_of_phrases):\n",
    "            for j in range(len(voices[i]), max_num_of_phrases):\n",
    "                voices[i].append([0]*number_of_notes)\n",
    "    return voices  \n",
    "    \n",
    "def get_X_and_y_from_voices(voices):\n",
    "    # maps each voice to the one above it\n",
    "    # fugue with voice1, voice2, voice3 results in:\n",
    "    # voice1 => voice2, voice2 => voice3, voice3 => voice1\n",
    "    X = []\n",
    "    y = []\n",
    "    for i in range(0, len(voices)-1):\n",
    "        for j in range(0, len(voices[i])):\n",
    "            X.append(voices[i][j])\n",
    "            y.append(voices[i+1][j])\n",
    "    for j in range(0, len(voices[i])):\n",
    "        X.append(voices[len(voices)-1][j])\n",
    "        y.append(voices[0][j])\n",
    "    return X, y\n",
    "\n",
    "def get_all_voices():\n",
    "    X = []\n",
    "    y = []\n",
    "    for book_num in range(1, 5):\n",
    "        # book 3 and 4 have inverted fugues\n",
    "        for fugue_num in range (1, 25):\n",
    "            voices = get_voices_from_fugue(book_num, fugue_num)\n",
    "            for i in range(0, len(voices)-1):\n",
    "                X.append(voices[i])\n",
    "                y.append(voices[i+1])\n",
    "    return X, y\n",
    "\n",
    "def remove_zero_phrases(x, y):\n",
    "    index_list = []\n",
    "    for i in range(0, len(x)):\n",
    "        zeros_count_x = 0\n",
    "        zeros_count_y = 0\n",
    "        \n",
    "        for j in range(0, len(x[i])):\n",
    "            if(x[i][j] == 0):\n",
    "                zeros_count_x += 1\n",
    "                \n",
    "        for j in range(0, len(y[i])):\n",
    "            if(y[i][j] == 0):\n",
    "                zeros_count_y += 1\n",
    "            \n",
    "        if(zeros_count_x < 4 and zeros_count_y < 4):\n",
    "            index_list.append(i)\n",
    "            \n",
    "    filtered_x = []\n",
    "    filtered_y = []\n",
    "    \n",
    "    for i in range(0, len(index_list)):\n",
    "        filtered_x.append(x[index_list[i]])\n",
    "        filtered_y.append(y[index_list[i]])\n",
    "        \n",
    "    return filtered_x, filtered_y\n",
    "            \n",
    "def get_X_and_y():\n",
    "    X = []\n",
    "    y = []\n",
    "    for book_num in range(1, 5):\n",
    "        # book 3 and 4 have inverted fugues\n",
    "        for fugue_num in range (1, 25):\n",
    "            voices = get_voices_from_fugue(book_num, fugue_num)\n",
    "            voices = transform_voices_to_bar_phrases(voices, number_of_notes/8)\n",
    "            \n",
    "            fugue_X, fugue_y = get_X_and_y_from_voices(voices)\n",
    "            fugue_X, fugue_y = remove_zero_phrases(fugue_X, fugue_y)\n",
    "            X += fugue_X\n",
    "            y += fugue_y\n",
    "    return X, y\n",
    "\n",
    "number_of_notes = 64\n",
    "X, y = get_X_and_y()\n",
    "\n",
    "print 'size of X: ', len(X)\n",
    "print 'size of y: ', len(y)"
   ]
  },
  {
   "cell_type": "code",
   "execution_count": 162,
   "metadata": {},
   "outputs": [
    {
     "name": "stdout",
     "output_type": "stream",
     "text": [
      "saved X and y to files\n"
     ]
    }
   ],
   "source": [
    "import numpy as np\n",
    "\n",
    "np.save('X.npy', X)\n",
    "np.save('y.npy', y)\n",
    "print('saved X and y to files')"
   ]
  },
  {
   "cell_type": "code",
   "execution_count": 3,
   "metadata": {},
   "outputs": [],
   "source": []
  },
  {
   "cell_type": "code",
   "execution_count": 5,
   "metadata": {},
   "outputs": [
    {
     "name": "stdout",
     "output_type": "stream",
     "text": [
      "4432\n",
      "289408\n",
      "size of X:  4522\n",
      "size of y:  4522\n",
      "[59. 59. 59. 59. 59. 59. 59. 60. 60. 60. 60. 60. 60. 60. 60. 60. 60. 60.\n",
      " 60. 60. 60.  0. 58. 58. 58. 58. 58. 58. 58. 57. 57. 57. 57. 57. 57. 57.\n",
      " 57. 62. 62. 62. 62. 62. 62. 62. 55. 55. 55. 55. 55. 55. 55. 60. 60. 60.\n",
      " 60. 60. 60. 60. 60. 60. 60.  0.  0. 57.]\n",
      "[65. 65. 65.  0. 65. 65. 65. 64. 64. 64. 64. 64. 64. 64. 64. 62. 62. 62.\n",
      " 62. 62. 62. 62. 62. 62. 62. 62. 62. 62.  0. 60. 60. 60. 60. 60. 60. 60.\n",
      " 60. 65. 65. 65. 65. 65. 65. 65. 65. 65. 65. 65. 67. 67. 67. 65. 65. 65.\n",
      " 65. 64. 64. 64. 64. 65. 65. 65. 65. 65.]\n"
     ]
    }
   ],
   "source": [
    "for i in range(0, len(X)):\n",
    "    if(len(X[i]) != number_of_notes):\n",
    "        print('unequal size')\n",
    "        \n",
    "for i in range(0, len(y)):\n",
    "    if(len(y[i]) != number_of_notes):\n",
    "        print('unequal size')\n",
    "        \n",
    "        \n",
    "count = 0\n",
    "for i in range(0, len(X)):\n",
    "    for j in range(0, len(X[i])):\n",
    "        if (X[i][j]==0):\n",
    "            count+=1\n",
    "            \n",
    "print(count)\n",
    "print(len(X)*number_of_notes)\n",
    "\n",
    "print 'size of X: ', len(X)\n",
    "print 'size of y: ', len(y)\n",
    "print(np.array(X[10]).T)\n",
    "print(np.array(y[10]).T)"
   ]
  },
  {
   "cell_type": "markdown",
   "metadata": {},
   "source": [
    "# Generate midi file from array sequence"
   ]
  },
  {
   "cell_type": "code",
   "execution_count": 3,
   "metadata": {},
   "outputs": [],
   "source": [
    "import midi\n",
    "import numpy as np\n",
    "\n",
    "def get_X_from_file():\n",
    "    file_name = 'custom_input.mid'\n",
    "    X = midi.read_midifile(file_name)\n",
    "    position = 0\n",
    "    if(len(X)>=2):\n",
    "        position = 1\n",
    "    X = get_note_values_from_track(X[position])\n",
    "    np.save('custom_input.npy', X)\n",
    "    return X\n",
    "\n",
    "def array_of_notes_to_midi(notes, filename):\n",
    "    # Instantiate a MIDI Pattern (contains a list of tracks)\n",
    "    pattern = midi.Pattern(resolution=96)\n",
    "    # Instantiate a MIDI Track (contains a list of MIDI events)\n",
    "    track = midi.Track()\n",
    "    # Append the track to the pattern\n",
    "    pattern.append(track)\n",
    "    for i in range(0, len(notes)):\n",
    "        note = notes[i]\n",
    "        if(note<0):\n",
    "            note = 0\n",
    "        # Instantiate a MIDI note on event, append it to the track\n",
    "        on = midi.NoteOnEvent(tick=0, velocity=70, pitch=note)\n",
    "        track.append(on)\n",
    "        # Instantiate a MIDI note off event, append it to the track\n",
    "        off = midi.NoteOffEvent(tick=6, pitch=note)\n",
    "        track.append(off)\n",
    "    # Add the end of track event, append it to the track\n",
    "    eot = midi.EndOfTrackEvent(tick=1)\n",
    "    track.append(eot)\n",
    "    # Print out the pattern\n",
    "    # print pattern\n",
    "    # Save the pattern to disk\n",
    "    midi.write_midifile(filename, pattern)"
   ]
  },
  {
   "cell_type": "code",
   "execution_count": 5,
   "metadata": {},
   "outputs": [
    {
     "data": {
      "text/plain": [
       "array([36., 36., 36., 36., 36., 36., 36., 36., 39., 39., 39., 39., 39.,\n",
       "       39., 39., 39., 40., 40., 40., 40., 40., 40., 40., 40., 40., 40.,\n",
       "       40., 40., 40., 40., 40., 40., 39., 39., 39., 39., 39., 39., 39.,\n",
       "       39., 39., 39., 39., 39., 39., 39., 39., 39., 42., 42., 42., 42.,\n",
       "       42., 42., 42., 42., 42., 42., 42., 42., 42., 42., 42., 42.])"
      ]
     },
     "execution_count": 5,
     "metadata": {},
     "output_type": "execute_result"
    }
   ],
   "source": [
    "get_X_from_file()"
   ]
  },
  {
   "cell_type": "code",
   "execution_count": 6,
   "metadata": {},
   "outputs": [
    {
     "name": "stdout",
     "output_type": "stream",
     "text": [
      "[36 36 36 36 36 36 36 36 39 39 39 39 39 39 39 39 40 40 40 40 40 40 40 40\n",
      " 40 40 40 40 40 40 40 40 39 39 39 39 39 39 39 39 39 39 39 39 39 39 39 39\n",
      " 42 42 42 42 42 42 42 42 42 42 42 42 42 42 42 42]\n",
      "[-1  0 11  6  6  6  6  6  6 11  8  8  8  8  8  8  8 10 10 10 10 10 10 10\n",
      " 10 10 10 10 10 10 10 10 10 10 10 10 10 10 11 11 11 11 11 11 11 11 11 11\n",
      " 11 11 11 11 11 11 11 11 11 11 11 11 11 11 11 11  0  0]\n"
     ]
    }
   ],
   "source": [
    "input_of_model = np.load('custom_input.npy')\n",
    "output_of_model = np.load('custom_output.npy')[0]\n",
    "\n",
    "input_of_model = np.array(input_of_model, dtype='int')\n",
    "output_of_model = np.array(output_of_model, dtype='int')\n",
    "\n",
    "print(input_of_model)\n",
    "print(output_of_model)\n",
    "\n",
    "array_of_notes_to_midi(input_of_model[1:-2], 'custom_input.mid')\n",
    "array_of_notes_to_midi(output_of_model[1:-2], 'custom_output.mid')"
   ]
  },
  {
   "cell_type": "markdown",
   "metadata": {},
   "source": [
    "# Some information about the dataset"
   ]
  },
  {
   "cell_type": "code",
   "execution_count": 91,
   "metadata": {},
   "outputs": [
    {
     "name": "stdout",
     "output_type": "stream",
     "text": [
      "# of fugues:  48\n",
      "# of data points 4333\n",
      "# of data points with 1 added for each 2 6499.5\n",
      "# of data points with 1 added for each 2 with vertical flip 12999.0\n",
      "# of data points with 3 added for each 2 10831\n",
      "# of data points with 3 added for each 2 and with vertical flip 21662\n"
     ]
    }
   ],
   "source": [
    "lines_count =0 \n",
    "phrase_count=0\n",
    "notes_count =0\n",
    "\n",
    "# tracks start from fugue[2] to fugue[len(fugue)-1]\n",
    "# fugue[0] and fugue[1] have metadata stuff\n",
    "for i in range(1, 3):\n",
    "    for j in range(1, 25):\n",
    "        fugue = read_midi_file(i, j)\n",
    "        for k in range (2, 3):\n",
    "            lines_count += 1\n",
    "            notes_count += len(get_note_values_from_track(fugue[k]))\n",
    "        phrase_count += ((len(fugue)-2)*len(get_note_values_from_track(fugue[2]))/128)\n",
    "            \n",
    "print \"# of fugues: \", lines_count\n",
    "print \"# of data points\", phrase_count\n",
    "print \"# of data points with 1 added for each 2\", phrase_count*1.5\n",
    "print \"# of data points with 1 added for each 2 with vertical flip\", phrase_count*1.5*2\n",
    "print \"# of data points with 3 added for each 2\", phrase_count+(phrase_count/2*3)\n",
    "print \"# of data points with 3 added for each 2 and with vertical flip\", (phrase_count+(phrase_count/2*3))*2\n",
    "\n",
    "first_fugue = read_midi_file(1, 2)    \n",
    "\n",
    "voices = []\n",
    "for i in range(2, len(first_fugue)):\n",
    "    voices.append(first_fugue[i])\n",
    "    \n",
    "first_voice = voices[0]\n",
    "first_voice_notes = get_note_values_from_track(first_voice)\n",
    "\n",
    "index = 0\n",
    "first_voice_bars=[]\n",
    "while (len(first_voice_notes)-index>=128):\n",
    "    first_voice_bars.append(first_voice_notes[index:index+128])\n",
    "    index+=128\n",
    "last_bar = []\n",
    "for i in range(index, len(first_voice_notes)):\n",
    "    last_bar.append(0)\n",
    "    last_bar[len(last_bar)-1] = first_voice_notes[i]\n",
    "for i in range(len(last_bar), 128):\n",
    "    last_bar.append(0)\n",
    "    \n",
    "first_voice_bars.append(last_bar)\n",
    "# print(len(last_bar))\n",
    "# print(len(first_voice_bars))"
   ]
  }
 ],
 "metadata": {
  "kernelspec": {
   "display_name": "Python 2",
   "language": "python",
   "name": "python2"
  },
  "language_info": {
   "codemirror_mode": {
    "name": "ipython",
    "version": 2
   },
   "file_extension": ".py",
   "mimetype": "text/x-python",
   "name": "python",
   "nbconvert_exporter": "python",
   "pygments_lexer": "ipython2",
   "version": "2.7.16"
  }
 },
 "nbformat": 4,
 "nbformat_minor": 2
}
